{
 "cells": [
  {
   "cell_type": "code",
   "execution_count": 4,
   "id": "401e7d94",
   "metadata": {},
   "outputs": [
    {
     "name": "stdout",
     "output_type": "stream",
     "text": [
      "Registration Number :  1\n",
      "Department :  ece\n",
      "Registration Number :  2\n",
      "Department :  cse\n"
     ]
    }
   ],
   "source": [
    "#class in python\n",
    "\n",
    "class student:\n",
    "        regno=\"1\"\n",
    "        dept=\"ece\"\n",
    "        \n",
    "# creation of object / instance of a class (variables and methods can be accessed using object)\n",
    "\n",
    "kathiravan = student()\n",
    "\n",
    "#printing the varible with defined values in class\n",
    "\n",
    "print(\"Registration Number : \",kathiravan.regno)\n",
    "print(\"Department : \",kathiravan.dept)\n",
    "\n",
    "kedar = student()\n",
    "\n",
    "#printing the varibles by updating the values\n",
    "\n",
    "kedar.regno=\"2\"\n",
    "kedar.dept=\"cse\"\n",
    "print(\"Registration Number : \",kedar.regno)\n",
    "print(\"Department : \",kedar.dept)\n"
   ]
  },
  {
   "cell_type": "code",
   "execution_count": 5,
   "id": "25b85bfa",
   "metadata": {},
   "outputs": [
    {
     "name": "stdout",
     "output_type": "stream",
     "text": [
      "Registration Number :  1\n",
      "Department :  ece\n",
      "Registration Number :  2\n",
      "Department :  cse\n"
     ]
    }
   ],
   "source": [
    "# class with constructor and instance variables defined in it\n",
    "class student:\n",
    "    def __init__(self):\n",
    "        self.regno=\"1\"\n",
    "        self.dept=\"ece\"\n",
    "        \n",
    "kathiravan = student()\n",
    "\n",
    "#printing the varible with defined values in class\n",
    "\n",
    "print(\"Registration Number : \",kathiravan.regno)\n",
    "print(\"Department : \",kathiravan.dept)\n",
    "\n",
    "kedar = student()\n",
    "\n",
    "#printing the varibles by updating the values\n",
    "\n",
    "kedar.regno=\"2\"\n",
    "kedar.dept=\"cse\"\n",
    "print(\"Registration Number : \",kedar.regno)\n",
    "print(\"Department : \",kedar.dept)\n",
    "    "
   ]
  },
  {
   "cell_type": "code",
   "execution_count": 8,
   "id": "bcd7212c",
   "metadata": {},
   "outputs": [
    {
     "name": "stdout",
     "output_type": "stream",
     "text": [
      "Registration Number :  2\n",
      "Department :  ece\n"
     ]
    }
   ],
   "source": [
    "# passing the values as parameter using constructor\n",
    "\n",
    "'''\n",
    "here self value is an imaginary value that's being passed as paremeter \n",
    "self denotes the instance/object of the class\n",
    "self = kathiravan\n",
    "\n",
    "kathiravan.regno=regNo\n",
    "kathiravan.dept= department\n",
    "\n",
    "while creating object \n",
    "imagine it's creating object like this\n",
    "\n",
    "kathiravan = student(kathiravan,\"2\",\"ece\") here kathiravan (object/instance is passed as one parameter)\n",
    "\n",
    "'''\n",
    "\n",
    "class student:\n",
    "    def __init__(self,regNo,department):\n",
    "        self.regno=regNo;\n",
    "        self.dept=department\n",
    "\n",
    "kathiravan = student(\"2\",\"ece\")\n",
    "print(\"Registration Number : \",kathiravan.regno)\n",
    "print(\"Department : \",kathiravan.dept)\n"
   ]
  },
  {
   "cell_type": "code",
   "execution_count": 10,
   "id": "403ec65f",
   "metadata": {},
   "outputs": [
    {
     "name": "stdout",
     "output_type": "stream",
     "text": [
      "Kathiravan registration number is 2\n",
      "Kathiravan department is ece\n"
     ]
    }
   ],
   "source": [
    "#methods inside the class \n",
    "class student:\n",
    "    def __init__(self,regNo,department):\n",
    "        self.regno=regNo;\n",
    "        self.dept=department\n",
    "        \n",
    "    #student is a parameter for this method\n",
    "    def display(self,student):\n",
    "        print(student,\"registration number is\",self.regno)\n",
    "        print(student,\"department is\",self.dept)\n",
    "\n",
    "kathiravan = student(\"2\",\"ece\")\n",
    "kathiravan.display(\"Kathiravan\")"
   ]
  },
  {
   "cell_type": "code",
   "execution_count": 11,
   "id": "34e63c70",
   "metadata": {},
   "outputs": [
    {
     "name": "stdout",
     "output_type": "stream",
     "text": [
      "Name :  Rich\n",
      "Reg no :  18VEC101\n",
      "Name :  John\n",
      "Reg no :  18VEC102\n"
     ]
    }
   ],
   "source": [
    "#example for above without passing a parameter to the method\n",
    "\n",
    "class Teacher:\n",
    "    def __init__(self,tname,tregno):\n",
    "        self.name=tname\n",
    "        self.regno=tregno\n",
    "        \n",
    "    def display(self):\n",
    "        print(\"Name : \",self.name)\n",
    "        print(\"Reg no : \",self.regno)\n",
    "        \n",
    "t1=Teacher(\"Rich\",\"18VEC101\")\n",
    "t2=Teacher(\"John\",\"18VEC102\")\n",
    "\n",
    "t1.display()\n",
    "t2.display()"
   ]
  },
  {
   "cell_type": "code",
   "execution_count": 12,
   "id": "877b476c",
   "metadata": {},
   "outputs": [
    {
     "name": "stdout",
     "output_type": "stream",
     "text": [
      "12\n",
      "20\n",
      "8\n"
     ]
    }
   ],
   "source": [
    "# without constructor\n",
    "class Calculator:\n",
    "    def add(self,num1,num2):\n",
    "        print(num1 + num2)\n",
    "        \n",
    "    def mul(self,num1,num2):\n",
    "        print(num1 * num2)\n",
    "        \n",
    "    def sub(self,num1,num2):\n",
    "        print(num1 - num2)\n",
    "obj1=Calculator()\n",
    "\n",
    "obj1.add(10,2)\n",
    "obj1.mul(10,2)\n",
    "obj1.sub(10,2)"
   ]
  },
  {
   "cell_type": "code",
   "execution_count": 13,
   "id": "a60e15a8",
   "metadata": {},
   "outputs": [
    {
     "name": "stdout",
     "output_type": "stream",
     "text": [
      "Brand : samsung\n",
      "Price : 60000\n",
      "Charger Type : c type\n"
     ]
    }
   ],
   "source": [
    "#instance variable\n",
    "'''\n",
    "Instance variable are the variables that are present inside the constructor\n",
    "Can be accessed using self keyword inside the class \n",
    "Can be accesesed using object name\n",
    "'''\n",
    "\n",
    "class phone:\n",
    "    def __init__(self,brand,price,chargerType):\n",
    "        self.brand=brand\n",
    "        self.price=price\n",
    "        self.chargerType=chargerType\n",
    "        \n",
    "    def display(self):\n",
    "        print(\"Brand :\",self.brand)\n",
    "        print(\"Price :\",self.price)\n",
    "        print(\"Charger Type :\",self.chargerType)\n",
    "        \n",
    "samsung= phone(\"samsung\",60000,\"c type\")\n",
    "samsung.display()"
   ]
  },
  {
   "cell_type": "code",
   "execution_count": 14,
   "id": "56262e5f",
   "metadata": {},
   "outputs": [
    {
     "name": "stdout",
     "output_type": "stream",
     "text": [
      "Kathiravan\n"
     ]
    }
   ],
   "source": [
    "#class variable\n",
    "'''\n",
    "Class variable are variables that are present outside the constructor\n",
    "can be accessed with classname\n",
    "'''\n",
    "class student:\n",
    "    name=\"Kathiravan\"\n",
    "    \n",
    "print(student.name)"
   ]
  },
  {
   "cell_type": "code",
   "execution_count": 15,
   "id": "d5698fd2",
   "metadata": {},
   "outputs": [
    {
     "name": "stdout",
     "output_type": "stream",
     "text": [
      "Brand : samsung\n",
      "Price : 60000\n",
      "Charger Type : C type\n",
      "Brand : samsung\n",
      "Price : 60000\n",
      "Charger Type : C type\n"
     ]
    }
   ],
   "source": [
    "# example for class variable and instance variable\n",
    "'''\n",
    "Here chargerType is class variable\n",
    "brand and price are instance variable\n",
    "'''\n",
    "class phone:\n",
    "    chargerType=\"C type\"\n",
    "    def __init__(self,brand,price):\n",
    "        self.brand=brand\n",
    "        self.price=price\n",
    "        \n",
    "    def display(self):\n",
    "        print(\"Brand :\",self.brand)\n",
    "        print(\"Price :\",self.price)\n",
    "        print(\"Charger Type :\",self.chargerType)\n",
    "        \n",
    "samsung= phone(\"samsung\",60000)\n",
    "samsung.display()\n",
    "\n",
    "google= phone(\"pixel\",70000)\n",
    "samsung.display()"
   ]
  },
  {
   "cell_type": "code",
   "execution_count": 16,
   "id": "4bc8782d",
   "metadata": {},
   "outputs": [
    {
     "name": "stdout",
     "output_type": "stream",
     "text": [
      "200000\n"
     ]
    }
   ],
   "source": [
    "#instance method\n",
    "'''\n",
    "Instance methods are methods that are present in the class with self keyword\n",
    "can be accessed using objects\n",
    "'''\n",
    "\n",
    "class laptop():\n",
    "    chargertype=\"c-type\"\n",
    "    def __init__(self):\n",
    "        self.brand=\"\"\n",
    "        self.price=34\n",
    "    def setPrice(self,price):\n",
    "        self.price=price\n",
    "    def getPrice(self):\n",
    "        print(self.price)\n",
    "\n",
    "hp = laptop()\n",
    "hp.setPrice(200000)\n",
    "hp.getPrice()"
   ]
  },
  {
   "cell_type": "code",
   "execution_count": 17,
   "id": "4dadb355",
   "metadata": {},
   "outputs": [
    {
     "name": "stdout",
     "output_type": "stream",
     "text": [
      "hp\n",
      "20000\n",
      "c-type\n",
      "Charger type changed to B\n"
     ]
    }
   ],
   "source": [
    "#class method\n",
    "'''\n",
    "Class methods are methods that are present in class without self keyword but with cls keyword\n",
    "can be accessed using class name\n",
    "'''\n",
    "\n",
    "class laptop():\n",
    "    chargertype=\"c-type\"\n",
    "    def __init__(self,brand,price):\n",
    "        self.brand=brand\n",
    "        self.price=price\n",
    "    def display(self):\n",
    "        print(self.brand)\n",
    "        print(self.price)\n",
    "        print(self.chargertype)\n",
    "        \n",
    "    def changeChargerType(cls):\n",
    "        chargertype=\"B-type\"\n",
    "        print(\"Charger type changed to B\")\n",
    "\n",
    "hp = laptop(\"hp\",20000)\n",
    "hp.display()\n",
    "\n",
    "# to access class method you have to use pass classname as parameter\n",
    "laptop.changeChargerType(laptop)"
   ]
  },
  {
   "cell_type": "code",
   "execution_count": 20,
   "id": "ac04be78",
   "metadata": {},
   "outputs": [
    {
     "name": "stdout",
     "output_type": "stream",
     "text": [
      "hp\n",
      "20000\n",
      "c-type\n",
      "Charger type changed to B\n"
     ]
    }
   ],
   "source": [
    "# example for class method , calling a function without classname object as parameter\n",
    "class laptop():\n",
    "    chargertype=\"c-type\"\n",
    "    def __init__(self,brand,price):\n",
    "        self.brand=brand\n",
    "        self.price=price\n",
    "    def display(self):\n",
    "        print(self.brand)\n",
    "        print(self.price)\n",
    "        print(self.chargertype)\n",
    "        \n",
    "    @classmethod\n",
    "    def changeChargerType(cls):\n",
    "        chargertype=\"B-type\"\n",
    "        print(\"Charger type changed to B\")\n",
    "\n",
    "hp = laptop(\"hp\",20000)\n",
    "hp.display()\n",
    "\n",
    "# if you don't want to pass class object inside the function you have to use \n",
    "# decorator class @classmethod to denote it's a class method\n",
    "laptop.changeChargerType()"
   ]
  },
  {
   "cell_type": "code",
   "execution_count": 21,
   "id": "731c6f7f",
   "metadata": {},
   "outputs": [
    {
     "name": "stdout",
     "output_type": "stream",
     "text": [
      "34\n",
      "This is laptop class\n"
     ]
    }
   ],
   "source": [
    "#static method\n",
    "\n",
    "'''\n",
    "method without self keyword and can be accessed by object\n",
    "'''\n",
    "\n",
    "class laptop:\n",
    "    chargertype=\"c-type\"\n",
    "    def __init__(self):\n",
    "        self.brand=\"\"\n",
    "        self.price=34\n",
    "        \n",
    "    def setPrice(self,price):\n",
    "        self.price=price\n",
    "        \n",
    "    def getPrice(self):\n",
    "        print(self.price)\n",
    "        \n",
    "    @staticmethod  \n",
    "    def info():\n",
    "        print(\"This is laptop class\")\n",
    "\n",
    "hp = laptop()\n",
    "hp.getPrice()\n",
    "\n",
    "# to access static method using object we have to use decorator @staticmethod\n",
    "hp.info()"
   ]
  },
  {
   "cell_type": "code",
   "execution_count": 22,
   "id": "4d599303",
   "metadata": {},
   "outputs": [
    {
     "name": "stdout",
     "output_type": "stream",
     "text": [
      "Son's laptop\n",
      "Dad's phone\n"
     ]
    }
   ],
   "source": [
    "#inheritance \n",
    "#(single inheritance) - A class inherits one another class \n",
    "'''\n",
    "(2->1) 2 is son 1 is dad\n",
    "son can access dad\n",
    "'''\n",
    "class dad:\n",
    "    def phone(self):\n",
    "        print(\"Dad\\'s phone\")\n",
    "\n",
    "class son(dad):\n",
    "    def laptop(self):\n",
    "        print(\"Son\\'s laptop\")\n",
    "ram = son()\n",
    "ram.laptop()\n",
    "ram.phone()"
   ]
  },
  {
   "cell_type": "code",
   "execution_count": 23,
   "id": "45b82d04",
   "metadata": {},
   "outputs": [
    {
     "name": "stdout",
     "output_type": "stream",
     "text": [
      "Son's laptop\n",
      "Dad's phone\n",
      "Mom's sweet\n"
     ]
    }
   ],
   "source": [
    "#inheritance \n",
    "#(multiple inheritance)  - A class inherits two other classes \n",
    "'''\n",
    "(3 -> 2,1) 3 is son 2,1 are mom and dad\n",
    "son can access both mom and dad\n",
    "'''\n",
    "class dad:\n",
    "    def phone(self):\n",
    "        print(\"Dad\\'s phone\")\n",
    "        \n",
    "class mom:\n",
    "    def sweet(self):\n",
    "        print(\"Mom\\'s sweet\")\n",
    "\n",
    "class son(dad,mom):\n",
    "    def laptop(self):\n",
    "        print(\"Son\\'s laptop\")\n",
    "ram = son()\n",
    "ram.laptop()\n",
    "ram.phone()\n",
    "ram.sweet()"
   ]
  },
  {
   "cell_type": "code",
   "execution_count": 24,
   "id": "170af6d4",
   "metadata": {},
   "outputs": [
    {
     "name": "stdout",
     "output_type": "stream",
     "text": [
      "Son's laptop\n",
      "Dad's money\n",
      "Grandpa's phone\n",
      "Grandpa's phone\n"
     ]
    }
   ],
   "source": [
    "#inheritance\n",
    "#(multi-level inheritance) - understand by this example \n",
    "'''\n",
    "(3 -> 2 -> 1) (son -> dad -> grandpa) \n",
    "son can access both dad and grandpa\n",
    "dad can access grandpa\n",
    "'''\n",
    "class grandpa():\n",
    "    def phone(self):\n",
    "        print(\"Grandpa\\'s phone\")\n",
    "class dad(grandpa):\n",
    "    def money(self):\n",
    "        print(\"Dad\\'s money\")\n",
    "class son(dad):\n",
    "    def laptop(self):\n",
    "        print(\"Son\\'s laptop\")\n",
    "ram = son()\n",
    "ram.laptop()\n",
    "ram.money()\n",
    "d1= dad()\n",
    "d1.phone()\n",
    "ram.phone()"
   ]
  },
  {
   "cell_type": "code",
   "execution_count": 25,
   "id": "306f1400",
   "metadata": {},
   "outputs": [
    {
     "name": "stdout",
     "output_type": "stream",
     "text": [
      "Dad's money\n"
     ]
    }
   ],
   "source": [
    "#inheritance\n",
    "#hierarchical inheritance\n",
    "'''\n",
    "(4,3,2 -> 1) son1,son2,son3-> dad\n",
    "here son1,son2,son3 inherits a single same class dad\n",
    "'''\n",
    "class dad():\n",
    "    def money(self):\n",
    "        print(\"Dad\\'s money\")\n",
    "class son1(dad):\n",
    "     def laptop1(self):\n",
    "        print(\"Son 1\\'s laptop\")\n",
    "class son2(dad):\n",
    "     def laptop2(self):\n",
    "        print(\"Son 2\\'s laptop\")\n",
    "class son3(dad):\n",
    "     def laptop2(self):\n",
    "        print(\"Son 3\\'s laptop\")\n",
    "s2=son2()\n",
    "s2.money()"
   ]
  },
  {
   "cell_type": "code",
   "execution_count": 27,
   "id": "b31a0ce0",
   "metadata": {},
   "outputs": [
    {
     "name": "stdout",
     "output_type": "stream",
     "text": [
      "Dad's money\n",
      "Dad's money\n",
      "Important land\n"
     ]
    }
   ],
   "source": [
    "#inheritance\n",
    "#hy-brid inheritance\n",
    "'''\n",
    "it has both multiple and hierarchial inheritance\n",
    "son1 -> dad,land (multiple)\n",
    "son1,son2,son3-> dad (hierarchial)\n",
    "'''\n",
    "class dad():\n",
    "    def money(self):\n",
    "        print(\"Dad\\'s money\")\n",
    "        \n",
    "class land():\n",
    "    def important(self):\n",
    "        print(\"Important land\")\n",
    "        \n",
    "class son1(dad,land):\n",
    "     def laptop1(self):\n",
    "        print(\"Son 1\\'s laptop\")\n",
    "        \n",
    "class son2(dad):\n",
    "     def laptop2(self):\n",
    "        print(\"Son 2\\'s laptop\")\n",
    "        \n",
    "class son3(dad):\n",
    "     def laptop2(self):\n",
    "        print(\"Son 3\\'s laptop\")\n",
    "s1= son1()\n",
    "s2=son2()\n",
    "s2.money()\n",
    "s1.money()\n",
    "s1.important()"
   ]
  },
  {
   "cell_type": "code",
   "execution_count": 28,
   "id": "33ac2bde",
   "metadata": {},
   "outputs": [
    {
     "name": "stdout",
     "output_type": "stream",
     "text": [
      "A\n",
      "B\n"
     ]
    }
   ],
   "source": [
    "#super keyword\n",
    "'''\n",
    "super will help you to access the parent element or methods\n",
    "'''\n",
    "class a():\n",
    "    def __init__(self):\n",
    "        print(\"A\")\n",
    "        \n",
    "    def display(self):\n",
    "        print(\"You are in class A\")\n",
    "        \n",
    "class b(a):\n",
    "    def __init__(self):\n",
    "        super().__init__()\n",
    "        print(\"B\")\n",
    "        \n",
    "    def display(self):\n",
    "        print(\"You are in class B\")\n",
    "        \n",
    "obj1 = b()"
   ]
  },
  {
   "cell_type": "code",
   "execution_count": 29,
   "id": "6a0384c1",
   "metadata": {},
   "outputs": [
    {
     "name": "stdout",
     "output_type": "stream",
     "text": [
      "A\n",
      "C\n"
     ]
    }
   ],
   "source": [
    "class a():\n",
    "    def __init__(self):\n",
    "        print(\"A\")\n",
    "        \n",
    "    def display(self):\n",
    "        print(\"You are in class A\")\n",
    "        \n",
    "class b():\n",
    "    def __init__(self):\n",
    "        super().__init__()\n",
    "        print(\"B\")\n",
    "        \n",
    "    def display(self):\n",
    "        print(\"You are in class B\")\n",
    "        \n",
    "class c(a,b): #it will call the first class that you're inheriting\n",
    "    def __init__(self):\n",
    "        super().__init__()\n",
    "        print(\"C\")\n",
    "        \n",
    "    def display(self):\n",
    "        print(\"You are in class B\")\n",
    "    \n",
    "obj1= c()"
   ]
  },
  {
   "cell_type": "code",
   "execution_count": 30,
   "id": "55e12b95",
   "metadata": {},
   "outputs": [
    {
     "name": "stdout",
     "output_type": "stream",
     "text": [
      "A\n",
      "B\n",
      "C\n"
     ]
    }
   ],
   "source": [
    "class a():\n",
    "    def __init__(self):\n",
    "        print(\"A\")\n",
    "        \n",
    "    def display(self):\n",
    "        print(\"You are in class A\")\n",
    "        \n",
    "class b():\n",
    "    def __init__(self):\n",
    "        super().__init__()\n",
    "        print(\"B\")\n",
    "        \n",
    "    def display(self):\n",
    "        print(\"You are in class B\")\n",
    "        \n",
    "class c(b,a): #it will call the first class that you're inheriting \n",
    "    def __init__(self):\n",
    "        super().__init__()\n",
    "        print(\"C\")\n",
    "        \n",
    "    def display(self):\n",
    "        print(\"You are in class B\")\n",
    "    \n",
    "obj1= c()"
   ]
  },
  {
   "cell_type": "code",
   "execution_count": 31,
   "id": "9fad9c15",
   "metadata": {},
   "outputs": [
    {
     "name": "stdout",
     "output_type": "stream",
     "text": [
      "Google\n"
     ]
    }
   ],
   "source": [
    "#Encapsulation (private variable)\n",
    "'''\n",
    "To make the variable private in class you can give double underscore as prefix for the variable\n",
    "'''\n",
    "class company():\n",
    "    def __init__(self):\n",
    "        self.__companyName=\"Google\"\n",
    "    def display(self):\n",
    "        print(self.__companyName)\n",
    "obj1=company()\n",
    "obj1.display()"
   ]
  },
  {
   "cell_type": "code",
   "execution_count": 32,
   "id": "f6d958a0",
   "metadata": {},
   "outputs": [
    {
     "name": "stdout",
     "output_type": "stream",
     "text": [
      "Google\n"
     ]
    }
   ],
   "source": [
    "#Encapsulation (protected variable)\n",
    "'''\n",
    "To make the variable protected in class you can give single underscore as prefix for the variable\n",
    "'''\n",
    "class company():\n",
    "    def __init__(self):\n",
    "        self._companyName=\"Google\"\n",
    "obj1=company()\n",
    "\n",
    "print(obj1._companyName)"
   ]
  },
  {
   "cell_type": "code",
   "execution_count": 33,
   "id": "644df630",
   "metadata": {},
   "outputs": [
    {
     "name": "stdout",
     "output_type": "stream",
     "text": [
      "3\n",
      "6\n"
     ]
    }
   ],
   "source": [
    "#polymorphism \n",
    "def add(a,b,c=0):\n",
    "    print(a+b+c)\n",
    "add(1,2)\n",
    "add(1,2,3)"
   ]
  },
  {
   "cell_type": "code",
   "execution_count": null,
   "id": "ce52dd1c",
   "metadata": {},
   "outputs": [],
   "source": []
  }
 ],
 "metadata": {
  "kernelspec": {
   "display_name": "Python 3 (ipykernel)",
   "language": "python",
   "name": "python3"
  },
  "language_info": {
   "codemirror_mode": {
    "name": "ipython",
    "version": 3
   },
   "file_extension": ".py",
   "mimetype": "text/x-python",
   "name": "python",
   "nbconvert_exporter": "python",
   "pygments_lexer": "ipython3",
   "version": "3.11.5"
  }
 },
 "nbformat": 4,
 "nbformat_minor": 5
}
