{
 "cells": [
  {
   "cell_type": "code",
   "execution_count": 2,
   "id": "95d71dd0",
   "metadata": {},
   "outputs": [
    {
     "name": "stdout",
     "output_type": "stream",
     "text": [
      "<_io.TextIOWrapper name='fruits.txt' mode='r' encoding='UTF-8'>\n",
      "Apple\n",
      "Orange\n"
     ]
    }
   ],
   "source": [
    "#file handling\n",
    "f=open(\"fruits.txt\") # to open the file\n",
    "content=f.read() # to read the file\n",
    "print(f)\n",
    "print(content)"
   ]
  },
  {
   "cell_type": "code",
   "execution_count": 3,
   "id": "2f559128",
   "metadata": {},
   "outputs": [
    {
     "name": "stdout",
     "output_type": "stream",
     "text": [
      "<_io.TextIOWrapper name='fruits.txt' mode='w' encoding='UTF-8'>\n"
     ]
    }
   ],
   "source": [
    "#file handling\n",
    "'''\n",
    "w denotes the file can only be write by default it will be read mode that is r , you have to change it w to write\n",
    "'''\n",
    "f=open(\"fruits.txt\",\"w\") # to open the file\n",
    "print(f)\n",
    "f.write(\"Banana\") # to write in the file\n",
    "f.close()"
   ]
  },
  {
   "cell_type": "code",
   "execution_count": 4,
   "id": "fa8efae1",
   "metadata": {},
   "outputs": [
    {
     "name": "stdout",
     "output_type": "stream",
     "text": [
      "<_io.TextIOWrapper name='fruits.txt' mode='w' encoding='UTF-8'>\n",
      "Banana\n"
     ]
    }
   ],
   "source": [
    "#file handling\n",
    "'''\n",
    "w denotes the file can only be write by default it will be read mode that is r , you have to change it w to write\n",
    "'''\n",
    "f=open(\"fruits.txt\",\"w\") # to open the file\n",
    "print(f)\n",
    "f.write(\"Banana\") # to write in the file\n",
    "f.close()\n",
    "'''\n",
    "r+ denotes the file can be read and written\n",
    "'''\n",
    "f=open(\"fruits.txt\",\"r+\") # to open the file\n",
    "content=f.read()\n",
    "print(content)"
   ]
  },
  {
   "cell_type": "code",
   "execution_count": 5,
   "id": "4649981b",
   "metadata": {},
   "outputs": [
    {
     "name": "stdout",
     "output_type": "stream",
     "text": [
      "Banana\n",
      "Mango\n"
     ]
    }
   ],
   "source": [
    "'''\n",
    "a helps you to append the date to the file instead of override the file\n",
    "'''\n",
    "f=open(\"fruits.txt\",\"a\") # to open the file\n",
    "f.write(\"\\nMango\") # to write in the file\n",
    "f.close()\n",
    "f=open(\"fruits.txt\",\"r+\") # to open the file\n",
    "content=f.read()\n",
    "print(content)"
   ]
  },
  {
   "cell_type": "code",
   "execution_count": 6,
   "id": "d1894c58",
   "metadata": {},
   "outputs": [
    {
     "name": "stdout",
     "output_type": "stream",
     "text": [
      "Banana\n",
      "\n"
     ]
    }
   ],
   "source": [
    "f=open(\"fruits.txt\",\"a\") # to open the file\n",
    "f.write(\"\\nOrange\") # to write in the file\n",
    "f.close()\n",
    "f=open(\"fruits.txt\",\"r+\") # to open the file\n",
    "'''\n",
    "Readline will help you to read the single line in the txt file\n",
    "'''\n",
    "content=f.readline()\n",
    "print(content)"
   ]
  },
  {
   "cell_type": "code",
   "execution_count": 1,
   "id": "c5f5acfe",
   "metadata": {},
   "outputs": [
    {
     "name": "stdout",
     "output_type": "stream",
     "text": [
      "Writing test.txt\n"
     ]
    }
   ],
   "source": [
    "%%writefile test.txt\n",
    "hello simplilearn"
   ]
  },
  {
   "cell_type": "code",
   "execution_count": null,
   "id": "a9d07ef6",
   "metadata": {},
   "outputs": [],
   "source": []
  }
 ],
 "metadata": {
  "kernelspec": {
   "display_name": "Python 3 (ipykernel)",
   "language": "python",
   "name": "python3"
  },
  "language_info": {
   "codemirror_mode": {
    "name": "ipython",
    "version": 3
   },
   "file_extension": ".py",
   "mimetype": "text/x-python",
   "name": "python",
   "nbconvert_exporter": "python",
   "pygments_lexer": "ipython3",
   "version": "3.11.5"
  }
 },
 "nbformat": 4,
 "nbformat_minor": 5
}
